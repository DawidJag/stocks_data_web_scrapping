{
  "nbformat": 4,
  "nbformat_minor": 0,
  "metadata": {
    "colab": {
      "name": "web_scrapping_bankier.ipynb",
      "provenance": [],
      "collapsed_sections": [],
      "authorship_tag": "ABX9TyMGQHUUTbj5kqp/tyjRNpQ7",
      "include_colab_link": true
    },
    "kernelspec": {
      "name": "python3",
      "display_name": "Python 3"
    }
  },
  "cells": [
    {
      "cell_type": "markdown",
      "metadata": {
        "id": "view-in-github",
        "colab_type": "text"
      },
      "source": [
        "<a href=\"https://colab.research.google.com/github/DawidJag/stocks_data_web_scrapping/blob/main/web_scrapping_bankier.ipynb\" target=\"_parent\"><img src=\"https://colab.research.google.com/assets/colab-badge.svg\" alt=\"Open In Colab\"/></a>"
      ]
    },
    {
      "cell_type": "code",
      "metadata": {
        "id": "40AyLmTnNs7I"
      },
      "source": [
        "# This program will scrap stocks data from website www.bankier.pl\n"
      ],
      "execution_count": 1,
      "outputs": []
    },
    {
      "cell_type": "code",
      "metadata": {
        "id": "m7YNAQVxQmq6"
      },
      "source": [
        "# importing neccessary libriaries\n",
        "import requests\n",
        "import pandas as pd\n",
        "from bs4 import BeautifulSoup\n"
      ],
      "execution_count": 2,
      "outputs": []
    },
    {
      "cell_type": "code",
      "metadata": {
        "id": "NZzpmjkTQ0yw"
      },
      "source": [
        "# create empty lists for companies data\n",
        "firma = []\n",
        "kurs = []\n",
        "zmiana = []\n",
        "zmiana_proc = []\n",
        "liczba_transakcji = []\n",
        "czas = []\n"
      ],
      "execution_count": 3,
      "outputs": []
    },
    {
      "cell_type": "code",
      "metadata": {
        "id": "uAxEXI8ETEJY"
      },
      "source": [
        "URL = 'https://www.bankier.pl/gielda/notowania/akcje?start=A'\n",
        "page = requests.get(URL)\n",
        "soup = BeautifulSoup(page.text, 'html.parser')\n",
        "rows = soup.tbody.find_all('tr', attrs={'class':''})"
      ],
      "execution_count": 4,
      "outputs": []
    },
    {
      "cell_type": "code",
      "metadata": {
        "id": "dZVSBsP5bGvF"
      },
      "source": [
        "for i in rows:\n",
        "  row = i.find_all('td')\n",
        "\n",
        "  firma.append(row[0].text.strip())\n",
        "  kurs.append(row[1].text.strip())\n",
        "  zmiana.append(row[2].text.strip())\n",
        "  zmiana_proc.append(row[3].text.strip())\n",
        "  liczba_transakcji.append(row[4].text.strip())\n",
        "  czas.append(row[9].text.strip())"
      ],
      "execution_count": 5,
      "outputs": []
    },
    {
      "cell_type": "code",
      "metadata": {
        "id": "2ElT9hh2V5gh"
      },
      "source": [
        "# Create a function to scrape the data\n",
        "def scrape_stock_data(Letter):\n",
        "\n",
        "  Letter = Letter.upper()\n",
        "  URL = 'https://www.bankier.pl/gielda/notowania/akcje?start=' + Letter\n",
        "  page = requests.get(URL)\n",
        "  soup = BeautifulSoup(page.text, 'html.parser')\n",
        "  rows = soup.tbody.find_all('tr', attrs={'class':''})\n",
        "\n",
        "  for i in rows:\n",
        "    row = i.find_all('td')\n",
        "\n",
        "    firma.append(row[0].text.strip())\n",
        "    kurs.append(row[1].text.strip())\n",
        "    zmiana.append(row[2].text.strip())\n",
        "    zmiana_proc.append(row[3].text.strip())\n",
        "    liczba_transakcji.append(row[4].text.strip())\n",
        "    czas.append(row[9].text.strip()) \n",
        "\n",
        "  return (firma, kurs, zmiana, zmiana_proc, liczba_transakcji, czas)\n"
      ],
      "execution_count": 6,
      "outputs": []
    },
    {
      "cell_type": "code",
      "metadata": {
        "id": "It6WWnIviMJw"
      },
      "source": [
        "# Preparing a list with all letters + '0-9'\n",
        "import string\n",
        "letters = list(string.ascii_uppercase)\n",
        "letters.append('0-9')\n"
      ],
      "execution_count": 7,
      "outputs": []
    },
    {
      "cell_type": "code",
      "metadata": {
        "id": "RBy5cgibleuI"
      },
      "source": [
        "# Extracting all data\n",
        "\n",
        "# clearing the lists\n",
        "firma = []\n",
        "kurs = []\n",
        "zmiana = []\n",
        "zmiana_proc = []\n",
        "liczba_transakcji = []\n",
        "czas = []\n",
        "\n",
        "for char in letters:\n",
        "  (firma, kurs, zmiana, zmiana_proc, liczba_transakcji, czas) = scrape_stock_data(char)"
      ],
      "execution_count": 8,
      "outputs": []
    },
    {
      "cell_type": "code",
      "metadata": {
        "id": "KQ7DH2zFqGoM",
        "outputId": "fc7707d6-888d-4d76-91ea-61ef887462a4",
        "colab": {
          "base_uri": "https://localhost:8080/",
          "height": 419
        }
      },
      "source": [
        "# Create a DataFrame with all data\n",
        "df = pd.DataFrame(columns=['spółka', 'kurs', 'zmiana', 'zmiana_%', 'liczba_transakcji', 'czas'])\n",
        "df['spółka'] = firma\n",
        "df['kurs'] = kurs\n",
        "df['zmiana'] = zmiana\n",
        "df['zmiana_%'] = zmiana_proc\n",
        "df['liczba_transakcji'] = liczba_transakcji\n",
        "df['czas'] = czas\n",
        "\n",
        "df"
      ],
      "execution_count": 9,
      "outputs": [
        {
          "output_type": "execute_result",
          "data": {
            "text/html": [
              "<div>\n",
              "<style scoped>\n",
              "    .dataframe tbody tr th:only-of-type {\n",
              "        vertical-align: middle;\n",
              "    }\n",
              "\n",
              "    .dataframe tbody tr th {\n",
              "        vertical-align: top;\n",
              "    }\n",
              "\n",
              "    .dataframe thead th {\n",
              "        text-align: right;\n",
              "    }\n",
              "</style>\n",
              "<table border=\"1\" class=\"dataframe\">\n",
              "  <thead>\n",
              "    <tr style=\"text-align: right;\">\n",
              "      <th></th>\n",
              "      <th>spółka</th>\n",
              "      <th>kurs</th>\n",
              "      <th>zmiana</th>\n",
              "      <th>zmiana_%</th>\n",
              "      <th>liczba_transakcji</th>\n",
              "      <th>czas</th>\n",
              "    </tr>\n",
              "  </thead>\n",
              "  <tbody>\n",
              "    <tr>\n",
              "      <th>0</th>\n",
              "      <td>ABCDATA</td>\n",
              "      <td>1,4280</td>\n",
              "      <td>0,0000</td>\n",
              "      <td>0,00%</td>\n",
              "      <td>11</td>\n",
              "      <td>22.07 13:14</td>\n",
              "    </tr>\n",
              "    <tr>\n",
              "      <th>1</th>\n",
              "      <td>ABMSOLID</td>\n",
              "      <td>0,1100</td>\n",
              "      <td>-0,1400</td>\n",
              "      <td>-56,00%</td>\n",
              "      <td>27</td>\n",
              "      <td>26.07 15:20</td>\n",
              "    </tr>\n",
              "    <tr>\n",
              "      <th>2</th>\n",
              "      <td>ABPL</td>\n",
              "      <td>28,8000</td>\n",
              "      <td>0,0000</td>\n",
              "      <td>0,00%</td>\n",
              "      <td>2</td>\n",
              "      <td>27.10 09:45</td>\n",
              "    </tr>\n",
              "    <tr>\n",
              "      <th>3</th>\n",
              "      <td>ACAUTOGAZ</td>\n",
              "      <td>37,7000</td>\n",
              "      <td>0,7000</td>\n",
              "      <td>1,89%</td>\n",
              "      <td>11</td>\n",
              "      <td>27.10 10:23</td>\n",
              "    </tr>\n",
              "    <tr>\n",
              "      <th>4</th>\n",
              "      <td>ACTION</td>\n",
              "      <td>4,1300</td>\n",
              "      <td>-0,1600</td>\n",
              "      <td>-3,73%</td>\n",
              "      <td>19</td>\n",
              "      <td>27.10 10:18</td>\n",
              "    </tr>\n",
              "    <tr>\n",
              "      <th>...</th>\n",
              "      <td>...</td>\n",
              "      <td>...</td>\n",
              "      <td>...</td>\n",
              "      <td>...</td>\n",
              "      <td>...</td>\n",
              "      <td>...</td>\n",
              "    </tr>\n",
              "    <tr>\n",
              "      <th>447</th>\n",
              "      <td>ZYWIEC</td>\n",
              "      <td>470,0000</td>\n",
              "      <td>-2,0000</td>\n",
              "      <td>-0,42%</td>\n",
              "      <td>2</td>\n",
              "      <td>27.10 09:00</td>\n",
              "    </tr>\n",
              "    <tr>\n",
              "      <th>448</th>\n",
              "      <td>06MAGNA</td>\n",
              "      <td>1,5000</td>\n",
              "      <td>-0,1200</td>\n",
              "      <td>-7,41%</td>\n",
              "      <td>71</td>\n",
              "      <td>27.10 10:24</td>\n",
              "    </tr>\n",
              "    <tr>\n",
              "      <th>449</th>\n",
              "      <td>08OCTAVA</td>\n",
              "      <td>0,8600</td>\n",
              "      <td>0,0400</td>\n",
              "      <td>4,88%</td>\n",
              "      <td>1</td>\n",
              "      <td>26.10 11:00</td>\n",
              "    </tr>\n",
              "    <tr>\n",
              "      <th>450</th>\n",
              "      <td>11BIT</td>\n",
              "      <td>470,0000</td>\n",
              "      <td>3,0000</td>\n",
              "      <td>0,64%</td>\n",
              "      <td>35</td>\n",
              "      <td>27.10 10:12</td>\n",
              "    </tr>\n",
              "    <tr>\n",
              "      <th>451</th>\n",
              "      <td>4FUNMEDIA</td>\n",
              "      <td>5,0800</td>\n",
              "      <td>-0,0200</td>\n",
              "      <td>-0,39%</td>\n",
              "      <td>1</td>\n",
              "      <td>27.10 09:00</td>\n",
              "    </tr>\n",
              "  </tbody>\n",
              "</table>\n",
              "<p>452 rows × 6 columns</p>\n",
              "</div>"
            ],
            "text/plain": [
              "        spółka      kurs   zmiana zmiana_% liczba_transakcji         czas\n",
              "0      ABCDATA    1,4280   0,0000    0,00%                11  22.07 13:14\n",
              "1     ABMSOLID    0,1100  -0,1400  -56,00%                27  26.07 15:20\n",
              "2         ABPL   28,8000   0,0000    0,00%                 2  27.10 09:45\n",
              "3    ACAUTOGAZ   37,7000   0,7000    1,89%                11  27.10 10:23\n",
              "4       ACTION    4,1300  -0,1600   -3,73%                19  27.10 10:18\n",
              "..         ...       ...      ...      ...               ...          ...\n",
              "447     ZYWIEC  470,0000  -2,0000   -0,42%                 2  27.10 09:00\n",
              "448    06MAGNA    1,5000  -0,1200   -7,41%                71  27.10 10:24\n",
              "449   08OCTAVA    0,8600   0,0400    4,88%                 1  26.10 11:00\n",
              "450      11BIT  470,0000   3,0000    0,64%                35  27.10 10:12\n",
              "451  4FUNMEDIA    5,0800  -0,0200   -0,39%                 1  27.10 09:00\n",
              "\n",
              "[452 rows x 6 columns]"
            ]
          },
          "metadata": {
            "tags": []
          },
          "execution_count": 9
        }
      ]
    },
    {
      "cell_type": "code",
      "metadata": {
        "id": "RXTfy65aqVFU"
      },
      "source": [
        "df.to_csv('stocks_data.csv')"
      ],
      "execution_count": 10,
      "outputs": []
    },
    {
      "cell_type": "code",
      "metadata": {
        "id": "o9_6Pe8GcB2A"
      },
      "source": [
        ""
      ],
      "execution_count": null,
      "outputs": []
    }
  ]
}